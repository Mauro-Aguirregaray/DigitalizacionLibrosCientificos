{
 "cells": [
  {
   "cell_type": "code",
   "execution_count": 1,
   "metadata": {},
   "outputs": [],
   "source": [
    "import cv2 as cv"
   ]
  },
  {
   "cell_type": "code",
   "execution_count": 2,
   "metadata": {},
   "outputs": [
    {
     "name": "stdout",
     "output_type": "stream",
     "text": [
      "5.5.0.20241111\n"
     ]
    }
   ],
   "source": [
    "import pytesseract\n",
    "print(pytesseract.get_tesseract_version())"
   ]
  },
  {
   "cell_type": "code",
   "execution_count": 3,
   "metadata": {},
   "outputs": [
    {
     "name": "stdout",
     "output_type": "stream",
     "text": [
      "‘Table 5: Case-control study of oral contraceptives and myocardial infarction [25]\n",
      "\n",
      "as AGE Teal\n",
      "25-34 35-44 45+\n",
      "oc Cae Control == Case. Control\n",
      "one ' 0 38 i 2\n",
      "° 1 281 B 318\n",
      "OR =244 OR =203\n",
      "14 ' 2 35 ' Is\n",
      "° 5 a 2 8\n",
      "OR =253 OR =052\n",
      "2+ ' u 2 8 8\n",
      "° a 112 3 125\n",
      "OR =7.00 OR =236\n",
      "Total ' 2B 98, 10 35\n",
      "° “4 64 8 coy\n",
      "OR = 6.00 OR =202\n",
      "(OC: oral contraceptives\n",
      "(IG: cigaretes\n",
      "AGE: age\n",
      "\n",
      "Cigarettes (CIG) are sufficient to control confounding and.\n",
      "that there is no misclassification or other source of bias.\n",
      "\n",
      "We first performed a standard logistic regression analysis,\n",
      "with Ml as the dependent variable and OC, AGE and CIG.\n",
      "as the independent variables. As pointed out by Green-\n",
      "land and Maldonado [26], there are problems identifying\n",
      "the target population when using standard logistic regres-\n",
      "sion analysis. Models were fit using EGRET [27|: statistical\n",
      "significance of individual terms was determined using the\n",
      "likelihood ratio test, and the goodness-of-fit statistic G?\n",
      "was based on the deviance. On purely statistical grounds.\n",
      "the best-fitting model had main effects for OC, AGE and.\n",
      "IG, along with the interaction term AGE « CIG (@ =\n",
      "12.0, df= 8, p = .15). The odds ratio estimate for the OC-\n",
      "MI association was 2.82 (95% confidence interval [Cl]:\n",
      "1.70,4.68). Of note, the Mantel-Haenszel odds ratio esti-\n",
      "mate, ORyyy= 2.82 (95% Cl: 1.70,4.69), was virtually:\n",
      "identical to the logistic regression estimate. The ORs,\n",
      "confidence interval was based on the variance estimate\n",
      "described by Robins, Breslow and Greenland [28,29]. The\n",
      "model with main effects for OC, AGE and CIG, along with\n",
      "the interaction term OC  CIG also fit the data quite well\n",
      "(@=174, df= 10, p=.068). Given that oral contraceptive\n",
      "use is the exposure of interest, itis reasonable - on sub-\n",
      "stantive grounds - to consider this as the \"final\" model. If\n",
      "'s0, because of the OC x CIG interaction, the model no\n",
      "\n",
      "longer provides a summary estimate of the odds ratio for\n",
      "the OC-MI association.\n",
      "\n",
      "Next, we conducted an analysis using the MSM-IPTW.\n",
      "approach. To obtain regression weights, a standard logis-\n",
      "tic regression analysis of control data was performed, with\n",
      "OC as the dependent variable, and with AGE and CIG as\n",
      "\n",
      "using generalized estimating equations, with MI as the\n",
      "dependent variable and OC as the sole independent vari-\n",
      "able. Following Hernan etal. [4] and Sato and Matsuyama\n",
      "[11], calculations were performed using the SAS proce-\n",
      "dure PROC GENMOD [30]. The odds ratio estimate for\n",
      "the OC-MI association was 3.34 (95% Cl: 2.15, 5.21).\n",
      "Interestingly, when empirical weights were used instead of\n",
      "regression weights, the odds ratio estimate (which equals.\n",
      "sOR) was 2.83 (95% Cl: 1.82,4.41). This is very close to\n",
      "the odds ratio and confidence interval estimates based on.\n",
      "the standard logistic regression and Mantel-Haenszel\n",
      "analyses.\n",
      "\n",
      "Discussion\n",
      "‘The counterfactual definition of confounding represents\n",
      "an important conceptual advance over earlier formula-\n",
      "tions of confounding. Working within the counterfactual\n",
      "\n"
     ]
    }
   ],
   "source": [
    "from PIL import Image\n",
    "\n",
    "# Cargar la imagen\n",
    "image_path = \"temp/Ejemplo.png\"\n",
    "image = Image.open(image_path)\n",
    "\n",
    "# Extraer texto con Tesseract\n",
    "text = pytesseract.image_to_string(image)\n",
    "\n",
    "print(text)"
   ]
  },
  {
   "cell_type": "code",
   "execution_count": 16,
   "metadata": {},
   "outputs": [],
   "source": [
    "from PIL import Image\n",
    "\n",
    "# Abrir la imagen original\n",
    "imagen = Image.open(\"data/PMC1431532_00004_2861963.jpg\")\n",
    "\n",
    "# Guardar con nuevo DPI (por ejemplo, 300x300)\n",
    "imagen.save(\"data/PMC1431532_00004_2861963_dpi.jpg\", dpi=(300, 300))"
   ]
  },
  {
   "cell_type": "code",
   "execution_count": 17,
   "metadata": {},
   "outputs": [
    {
     "name": "stdout",
     "output_type": "stream",
     "text": [
      "‘We fist performed a standard logistic regression analysis,\n",
      "With Mas the dependent variable and OC, AGE and CG\n",
      "1s the independent variable. As pointed out by Gree.\n",
      "Iand and Maldonado [26 there ae problems dentfving\n",
      "the target population when using standad logistic regres\n",
      "‘son analysis Models were itusing EGRET [27 staitial\n",
      "‘Sgniicance of individual terns was determined using the\n",
      "Tkelhood rao test, and the goodness of fi statistic G>\n",
      "‘vas based on the deviance. On pute satstial grounds\n",
      "the best fting model had main effects for OC, AGE and\n",
      "CG, along with the interaction term AGE » CIG (C=\n",
      "120, df= 8 p=-15)-The odds rao estimate forthe OC\n",
      "Ml asodation was 2.2 (95% confidence intel [CI\n",
      "\n",
      "170,468). Of note, the Mantel-Haenszel odd tio est\n",
      "\n",
      "mate, OBjy= 282 (958 Cl 170,469), was vitally\n",
      "denial 1 the logistic epession estimate. The ORs,\n",
      "‘confidence interval wis based on the variance estimate\n",
      "‘escribed by Robins, Breslow and Greenland [28,29] The\n",
      "model wih maa effets for OC, AGE and C1G, along with\n",
      "the interaction term OC: ~ IG also fit dhe data quite well\n",
      "(G=17-4 dl = 10,p=-068) Civea that oral conteaeptive\n",
      "uses the exposure of interest, itis reasonable ~ on sub\n",
      "\n",
      "Stantive grounds - to consider thisas the “final” model. I\n",
      "ioe bacmas of he 00 ¢ Clos Gaertn: es one\n",
      "\n",
      "\n"
     ]
    }
   ],
   "source": [
    "from PIL import Image\n",
    "\n",
    "# Cargar la imagen\n",
    "image_path = \"data/PMC1431532_00004_2861963_dpi.jpg\"\n",
    "image = Image.open(image_path)\n",
    "\n",
    "# Extraer texto con Tesseract\n",
    "text = pytesseract.image_to_string(image)\n",
    "\n",
    "print(text)"
   ]
  },
  {
   "cell_type": "code",
   "execution_count": 15,
   "metadata": {},
   "outputs": [
    {
     "name": "stdout",
     "output_type": "stream",
     "text": [
      "‘We first performed a standard logistic regression analysis,\n",
      "‘wih Mas the dependent variable and OC, AGE and CIC\n",
      "{the independent variables. As pointed out by Gree\n",
      "Iand and Maldonado [26 there ae problems identfving\n",
      "‘the target population when using standard logistic regres\n",
      "son analysis Models were itusing EGRET [27] staitial\n",
      "‘Significance of individual terns was determined using the\n",
      "Tikelhood rao test, and the goodness of fit statistic G*\n",
      "‘vas based on the deviance. On purely statistical grounds\n",
      "the best-fiting model had main effects for OC, AGE and\n",
      "CG, along with the interaction term AGE » CIG (C=\n",
      "120, df= 8 p=-15)-The odds ratio estimate fr the OC\n",
      "NM assodation was 2.82 (95% confidence intetsal [CI\n",
      "\n",
      "1.70468). Of note, the Mantel-Haenszel odd tio est\n",
      "\n",
      "mate, ORjy= 282 (954 Cl: 170,469), was vitally\n",
      "denial 19 the logistic egession estimate. The ORs,\n",
      "‘confidence interval wis based on the valance estimate\n",
      "‘escribed by Robin, Breslow and Greenland [28,29], The\n",
      "model wih maa effets for OC, AGE and C1G, along with\n",
      "the interaction term OC: = C1G also fit the data quite well\n",
      "(G=17.4 dt = 10,p=-068) Civea thatoralconteaceptive\n",
      "uses the exposure of interest, itis reasonable ~ on sub\n",
      "\n",
      "Stantive rounds -to consider thisas the “final” model. I\n",
      "x bans af Be OC ¢ CR Goatees es oe\n",
      "\n",
      "\n"
     ]
    }
   ],
   "source": [
    "from PIL import Image\n",
    "\n",
    "# Cargar la imagen\n",
    "image_path = \"data/PMC1431532_00004_2861963.jpg\"\n",
    "image = Image.open(image_path)\n",
    "\n",
    "# Extraer texto con Tesseract\n",
    "text = pytesseract.image_to_string(image, config=\"--dpi 0\")\n",
    "\n",
    "print(text)"
   ]
  },
  {
   "cell_type": "code",
   "execution_count": 19,
   "metadata": {},
   "outputs": [
    {
     "name": "stdout",
     "output_type": "stream",
     "text": [
      "We first performed a standard logistic regression analysis,\n",
      "with ML as the dependent variable and OC, AGE and CIG\n",
      "as the independent variables. As pointed out by Green-\n",
      "land and Maldonado [26], there are problems identifying\n",
      "the target population when using standard logistic regres-\n",
      "sion analysis. Models were fit using EGRET [27]: statistical\n",
      "significance of individual terms was determined using the\n",
      "likelihood ratio test, and the goodness-of-fit statistic G?\n",
      "was based on the deviance. On purely statistical grounds\n",
      "the best-fitting model had main effects for OC, AGE and\n",
      "CIG, along with the interaction term AGE « CIG (G? =\n",
      "12.0, df = 8, p = .15). The odds ratio estimate for the OC-\n",
      "MI association was 2.82 (95% confidence interval [Cl]:\n",
      "1.70,4.68). Of note, the Mantel-Haenszel odds ratio esti-\n",
      "mate, ORyy= 2.82 (95% Ch 1.70,4.69), was virtually\n",
      "identical to the logistic regression estimate. The OR,\n",
      "confidence interval was based on the variance estimate\n",
      "described by Robins, Breslow and Greenland [28,29]. The\n",
      "model with main effects for OC, AGE and CIG, along with\n",
      "the interaction term OC « CIG also fit the data quite well\n",
      "(G* = 17.4, df = 10, p = .068). Given that oral contraceptive\n",
      "use is the exposure of interest, it is reasonable - on sub-\n",
      "stantive grounds ~ to consider this as the “final’ model. If\n",
      "so, because of the OC « CIG interaction, the model no\n",
      "\n",
      "\n",
      "We first performed a standard logistic regression analysis,\n",
      "with MI as the dependent variable and OC, AGE and CIG\n",
      "as the independent variables. As pointed out by Green-\n",
      "land and Maldonado [26], there are problems identifying\n",
      "the target population when using standard logistic regres-\n",
      "sion analysis. Models were fit using EGRET [27]: statistical\n",
      "significance of individual terms was determined using the\n",
      "likelihood ratio test, and the goodness-of-fit statistic G?\n",
      "was based on the deviance. On purely statistical grounds\n",
      "the best-fitting model had main effects for OC, AGE and\n",
      "CIG, along with the interaction term AGE « CIC (G* =\n",
      "12.0, df = 8, p = .15). The odds ratio estimate for the OC-\n",
      "MI association was 2.82 (95% confidence interval [CI]:\n",
      "1.70,4.68). Of note, the Mantel-Haenszel odds ratio esti-\n",
      "mate, ORs y= 2.82 (95% Ch 1.70,4.69), was virtually\n",
      "identical to the logistic regression estimate. The OR,\n",
      "confidence interval was based on the variance estimate\n",
      "described by Robins, Breslow and Greenland [28,29]. The\n",
      "model with main effects for OC, AGE and CIG, along with\n",
      "the interaction term OC « CIG also fit the data quite well\n",
      "(G* = 17.4, df = 10, p= .068). Given that oral contraceptive\n",
      "use is the exposure of interest, it is reasonable - on sub-\n",
      "stantive grounds ~ to consider this as the “final* model. If\n",
      "80, because of the OC « CIG interaction, the model no\n",
      "\n"
     ]
    }
   ],
   "source": [
    "from PIL import Image\n",
    "# Cargar la imagen\n",
    "image_path = \"temp/scaled_document.png\"\n",
    "image = Image.open(image_path)\n",
    "\n",
    "# Extraer texto con Tesseract\n",
    "text = pytesseract.image_to_string(image)\n",
    "\n",
    "print(text)\n",
    "# Cargar la imagen\n",
    "image_path = \"temp/scaled_document_3.png\"\n",
    "image = Image.open(image_path)\n",
    "\n",
    "# Extraer texto con Tesseract\n",
    "text = pytesseract.image_to_string(image)\n",
    "\n",
    "print(text)"
   ]
  },
  {
   "cell_type": "code",
   "execution_count": 8,
   "metadata": {},
   "outputs": [
    {
     "name": "stdout",
     "output_type": "stream",
     "text": [
      "DPI de la imagen: DPI no especificado\n"
     ]
    }
   ],
   "source": [
    "from PIL import Image\n",
    "\n",
    "# Abrir imagen\n",
    "img = Image.open(\"temp/scaled_document.png\")\n",
    "\n",
    "# Obtener el DPI desde los metadatos\n",
    "dpi = img.info.get('dpi', 'DPI no especificado')\n",
    "print(f\"DPI de la imagen: {dpi}\")"
   ]
  }
 ],
 "metadata": {
  "kernelspec": {
   "display_name": "TesisOCR",
   "language": "python",
   "name": "python3"
  },
  "language_info": {
   "codemirror_mode": {
    "name": "ipython",
    "version": 3
   },
   "file_extension": ".py",
   "mimetype": "text/x-python",
   "name": "python",
   "nbconvert_exporter": "python",
   "pygments_lexer": "ipython3",
   "version": "3.11.11"
  }
 },
 "nbformat": 4,
 "nbformat_minor": 2
}
